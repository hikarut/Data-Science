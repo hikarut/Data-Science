{
 "cells": [
  {
   "cell_type": "code",
   "execution_count": 99,
   "metadata": {},
   "outputs": [
    {
     "data": {
      "text/html": [
       "<div>\n",
       "<style scoped>\n",
       "    .dataframe tbody tr th:only-of-type {\n",
       "        vertical-align: middle;\n",
       "    }\n",
       "\n",
       "    .dataframe tbody tr th {\n",
       "        vertical-align: top;\n",
       "    }\n",
       "\n",
       "    .dataframe thead th {\n",
       "        text-align: right;\n",
       "    }\n",
       "</style>\n",
       "<table border=\"1\" class=\"dataframe\">\n",
       "  <thead>\n",
       "    <tr style=\"text-align: right;\">\n",
       "      <th></th>\n",
       "      <th>性別</th>\n",
       "      <th>学生</th>\n",
       "      <th>滞在時間(秒)</th>\n",
       "      <th>ユーザー登録</th>\n",
       "    </tr>\n",
       "  </thead>\n",
       "  <tbody>\n",
       "    <tr>\n",
       "      <th>0</th>\n",
       "      <td>1</td>\n",
       "      <td>0</td>\n",
       "      <td>34</td>\n",
       "      <td>0</td>\n",
       "    </tr>\n",
       "    <tr>\n",
       "      <th>1</th>\n",
       "      <td>1</td>\n",
       "      <td>0</td>\n",
       "      <td>28</td>\n",
       "      <td>0</td>\n",
       "    </tr>\n",
       "    <tr>\n",
       "      <th>2</th>\n",
       "      <td>0</td>\n",
       "      <td>0</td>\n",
       "      <td>98</td>\n",
       "      <td>1</td>\n",
       "    </tr>\n",
       "    <tr>\n",
       "      <th>3</th>\n",
       "      <td>1</td>\n",
       "      <td>0</td>\n",
       "      <td>70</td>\n",
       "      <td>0</td>\n",
       "    </tr>\n",
       "    <tr>\n",
       "      <th>4</th>\n",
       "      <td>0</td>\n",
       "      <td>1</td>\n",
       "      <td>67</td>\n",
       "      <td>1</td>\n",
       "    </tr>\n",
       "    <tr>\n",
       "      <th>5</th>\n",
       "      <td>0</td>\n",
       "      <td>0</td>\n",
       "      <td>23</td>\n",
       "      <td>0</td>\n",
       "    </tr>\n",
       "    <tr>\n",
       "      <th>6</th>\n",
       "      <td>1</td>\n",
       "      <td>0</td>\n",
       "      <td>67</td>\n",
       "      <td>1</td>\n",
       "    </tr>\n",
       "    <tr>\n",
       "      <th>7</th>\n",
       "      <td>1</td>\n",
       "      <td>1</td>\n",
       "      <td>56</td>\n",
       "      <td>1</td>\n",
       "    </tr>\n",
       "    <tr>\n",
       "      <th>8</th>\n",
       "      <td>0</td>\n",
       "      <td>0</td>\n",
       "      <td>41</td>\n",
       "      <td>0</td>\n",
       "    </tr>\n",
       "    <tr>\n",
       "      <th>9</th>\n",
       "      <td>0</td>\n",
       "      <td>1</td>\n",
       "      <td>90</td>\n",
       "      <td>1</td>\n",
       "    </tr>\n",
       "  </tbody>\n",
       "</table>\n",
       "</div>"
      ],
      "text/plain": [
       "   性別  学生  滞在時間(秒)  ユーザー登録\n",
       "0   1   0       34       0\n",
       "1   1   0       28       0\n",
       "2   0   0       98       1\n",
       "3   1   0       70       0\n",
       "4   0   1       67       1\n",
       "5   0   0       23       0\n",
       "6   1   0       67       1\n",
       "7   1   1       56       1\n",
       "8   0   0       41       0\n",
       "9   0   1       90       1"
      ]
     },
     "execution_count": 99,
     "metadata": {},
     "output_type": "execute_result"
    }
   ],
   "source": [
    "# テストデータの登録\n",
    "import pandas as pd\n",
    "import numpy as np\n",
    "\n",
    "data = pd.DataFrame({'性別': [1, 1, 0, 1, 0, 0, 1, 1, 0, 0],\n",
    "                     '学生': [0, 0, 0, 0, 1, 0, 0, 1, 0, 1],\n",
    "                     '滞在時間(秒)': [34, 28, 98, 70, 67, 23, 67, 56, 41, 90],\n",
    "                     'ユーザー登録': [0, 0, 1, 0, 1, 0, 1, 1, 0, 1]},)\n",
    "data"
   ]
  },
  {
   "cell_type": "code",
   "execution_count": 100,
   "metadata": {},
   "outputs": [
    {
     "name": "stdout",
     "output_type": "stream",
     "text": [
      "      説明変数    result\n",
      "0       性別 -0.076838\n",
      "2  滞在時間(秒)  0.111983\n",
      "1       学生  0.644331\n"
     ]
    }
   ],
   "source": [
    "# ロジスティック回帰分析\n",
    "from sklearn import linear_model\n",
    "model = linear_model.LogisticRegression()\n",
    "\n",
    "# 説明変数にユーザー登録以外を利用\n",
    "X = data.drop(\"ユーザー登録\", axis=1)\n",
    "# 目的変数にユーザー登録を利用\n",
    "Y = data['ユーザー登録'].values\n",
    "\n",
    "# 予測モデルを作成\n",
    "model.fit(X, Y)\n",
    "print(pd.DataFrame({\"説明変数\":X.columns,\n",
    "                    \"result\":model.coef_[0]}).sort_values(by='result'))"
   ]
  },
  {
   "cell_type": "code",
   "execution_count": 113,
   "metadata": {},
   "outputs": [
    {
     "name": "stdout",
     "output_type": "stream",
     "text": [
      "---サマリー---\n",
      "                           Logit Regression Results                           \n",
      "==============================================================================\n",
      "Dep. Variable:                      y   No. Observations:                   10\n",
      "Model:                          Logit   Df Residuals:                        6\n",
      "Method:                           MLE   Df Model:                            3\n",
      "Date:                Fri, 20 Mar 2020   Pseudo R-squ.:                  0.7610\n",
      "Time:                        10:12:42   Log-Likelihood:                -1.6565\n",
      "converged:                      False   LL-Null:                       -6.9315\n",
      "Covariance Type:            nonrobust   LLR p-value:                   0.01443\n",
      "==============================================================================\n",
      "                 coef    std err          z      P>|z|      [0.025      0.975]\n",
      "------------------------------------------------------------------------------\n",
      "const         -9.5614     10.745     -0.890      0.374     -30.622      11.499\n",
      "性別             0.1543      5.170      0.030      0.976      -9.979      10.287\n",
      "学生            22.7574   3.26e+04      0.001      0.999   -6.38e+04    6.38e+04\n",
      "滞在時間(秒)        0.1370      0.139      0.988      0.323      -0.135       0.409\n",
      "==============================================================================\n",
      "\n",
      "Possibly complete quasi-separation: A fraction 0.30 of observations can be\n",
      "perfectly predicted. This might indicate that there is complete\n",
      "quasi-separation. In this case some parameters will not be identified.\n",
      "---対数オッズ---\n",
      "const      -9.561361\n",
      "性別          0.154283\n",
      "学生         22.757416\n",
      "滞在時間(秒)     0.136965\n",
      "dtype: float64\n",
      "---p値---\n",
      "const      0.373568\n",
      "性別         0.976193\n",
      "学生         0.999442\n",
      "滞在時間(秒)    0.323037\n",
      "dtype: float64\n",
      "---変数が1単位増加したとき、事象が発生する確率が何%に増加するか(量的評価)---\n",
      "滞在時間(秒): 0.5341877701226888\n",
      "滞在時間(秒): 0.5341877701226888\n",
      "---変数が1になると事象が発生する確率は、事象が発生しない確率の何倍か(質的評価)---\n",
      "性別: 1.1668207000698392\n",
      "学生: 7645749443.830123\n"
     ]
    },
    {
     "name": "stderr",
     "output_type": "stream",
     "text": [
      "/opt/conda/lib/python3.7/site-packages/statsmodels/base/model.py:568: ConvergenceWarning: Maximum Likelihood optimization failed to converge. Check mle_retvals\n",
      "  \"Check mle_retvals\", ConvergenceWarning)\n"
     ]
    }
   ],
   "source": [
    "# statsmodelsを使ったロジスティック回帰分析\n",
    "from sklearn.linear_model import LogisticRegression\n",
    "import statsmodels.api as sm\n",
    "\n",
    "# 説明変数にユーザー登録以外を利用\n",
    "X = data[['性別', '学生', '滞在時間(秒)']]\n",
    "# 目的変数にユーザー登録を利用\n",
    "Y = data['ユーザー登録'].values\n",
    "\n",
    "model = sm.Logit(Y, sm.add_constant(X))\n",
    "result = model.fit(disp=0)\n",
    "print('---サマリー---')\n",
    "print(result.summary())\n",
    "\n",
    "print('---対数オッズ---')\n",
    "print(result.params)\n",
    "\n",
    "print('---p値---')\n",
    "print(result.pvalues)\n",
    "\n",
    "print('---変数が1単位増加したとき、事象が発生する確率が何%に増加するか(量的評価)---')\n",
    "print('滞在時間(秒):', 1 / (1 + np.exp(-result.params['滞在時間(秒)'])))\n",
    "print('滞在時間(秒):', np.exp(result.params['滞在時間(秒)']) / (1 + np.exp(result.params['滞在時間(秒)'])))\n",
    "\n",
    "print('---変数が1になると事象が発生する確率は、事象が発生しない確率の何倍か(質的評価)---')\n",
    "print('性別:', np.exp(result.params['性別']))\n",
    "print('学生:', np.exp(result.params['学生']))"
   ]
  },
  {
   "cell_type": "code",
   "execution_count": 68,
   "metadata": {},
   "outputs": [
    {
     "data": {
      "text/plain": [
       "0.9999999999537279"
      ]
     },
     "execution_count": 68,
     "metadata": {},
     "output_type": "execute_result"
    }
   ],
   "source": [
    "1 / (1 + np.exp(-result.params['学生']))"
   ]
  }
 ],
 "metadata": {
  "kernelspec": {
   "display_name": "Python 3",
   "language": "python",
   "name": "python3"
  },
  "language_info": {
   "codemirror_mode": {
    "name": "ipython",
    "version": 3
   },
   "file_extension": ".py",
   "mimetype": "text/x-python",
   "name": "python",
   "nbconvert_exporter": "python",
   "pygments_lexer": "ipython3",
   "version": "3.7.6"
  }
 },
 "nbformat": 4,
 "nbformat_minor": 4
}
