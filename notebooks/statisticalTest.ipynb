{
 "cells": [
  {
   "cell_type": "markdown",
   "metadata": {},
   "source": [
    "[Pythonのttest_1sampで1標本t検定(両側/片側検定)を行う方法](https://tanuhack.com/ttest-one-sample/)"
   ]
  },
  {
   "cell_type": "code",
   "execution_count": 50,
   "metadata": {},
   "outputs": [
    {
     "name": "stdout",
     "output_type": "stream",
     "text": [
      "母平均： 204.96666666666664\n",
      "母平均が200のt値： 2.751076959309973\n",
      "母平均が200である確率(p値)： 0.015611934395473872\n"
     ]
    }
   ],
   "source": [
    "# 1標本のt検定\n",
    "\n",
    "import numpy as np\n",
    "import scipy as sp\n",
    "import matplotlib.pyplot as plt\n",
    "\n",
    "coffee = np.array([\n",
    "    210.9, 195.4, 202.1 , 211.3, 195.5, \n",
    "    212.9, 210.9, 198.3, 202.1, 215.6, \n",
    "    204.7, 212.2, 200.7, 206.1, 195.8\n",
    "])\n",
    "\n",
    "t, p = sp.stats.ttest_1samp(coffee, popmean=200)\n",
    "print('母平均：', np.mean(coffee))\n",
    "print('母平均が200のt値：', t)\n",
    "print('母平均が200である確率(p値)：', p)"
   ]
  },
  {
   "cell_type": "markdown",
   "metadata": {},
   "source": [
    "[【Python】2群間での統計検定手法まとめ](https://qiita.com/suaaa7/items/745ac1ca0a8d6753cf60)"
   ]
  },
  {
   "cell_type": "code",
   "execution_count": 51,
   "metadata": {},
   "outputs": [
    {
     "name": "stdout",
     "output_type": "stream",
     "text": [
      "A平均： 0.75\n",
      "B平均： 2.3299999999999996\n"
     ]
    },
    {
     "data": {
      "text/plain": [
       "Ttest_relResult(statistic=-4.062127683382037, pvalue=0.00283289019738427)"
      ]
     },
     "execution_count": 51,
     "metadata": {},
     "output_type": "execute_result"
    }
   ],
   "source": [
    "# 対応のあるt検定\n",
    "\n",
    "import numpy as np\n",
    "from scipy import stats\n",
    "\n",
    "A = np.array([0.7, -1.6, -0.2, -1.2, -0.1, 3.4, 3.7, 0.8, 0.0, 2.0])\n",
    "B = np.array([1.9, 0.8, 1.1, 0.1, -0.1, 4.4, 5.5, 1.6, 4.6, 3.4])\n",
    "\n",
    "print('A平均：', np.mean(A))\n",
    "print('B平均：', np.mean(B))\n",
    "stats.ttest_rel(A, B)"
   ]
  },
  {
   "cell_type": "code",
   "execution_count": 52,
   "metadata": {},
   "outputs": [
    {
     "name": "stdout",
     "output_type": "stream",
     "text": [
      "A平均： 9.28\n",
      "B平均： 3.0181818181818185\n"
     ]
    },
    {
     "data": {
      "text/plain": [
       "Ttest_indResult(statistic=9.851086859836649, pvalue=6.698194360479442e-09)"
      ]
     },
     "execution_count": 52,
     "metadata": {},
     "output_type": "execute_result"
    }
   ],
   "source": [
    "# スチューデントのt検定\n",
    "\n",
    "import numpy as np\n",
    "from scipy import stats\n",
    "\n",
    "A = np.array([6.3, 8.1, 9.4, 10.4, 8.6, 10.5, 10.2, 10.5, 10.0, 8.8])\n",
    "B = np.array([4.8, 2.1, 5.1, 2.0, 4.0, 1.0, 3.4, 2.7, 5.1, 1.4, 1.6])\n",
    "\n",
    "print('A平均：', np.mean(A))\n",
    "print('B平均：', np.mean(B))\n",
    "stats.ttest_ind(A, B)"
   ]
  },
  {
   "cell_type": "code",
   "execution_count": 53,
   "metadata": {},
   "outputs": [
    {
     "name": "stdout",
     "output_type": "stream",
     "text": [
      "A平均： 9.73\n",
      "B平均： 3.5181818181818176\n"
     ]
    },
    {
     "data": {
      "text/plain": [
       "Ttest_indResult(statistic=4.426442804187721, pvalue=0.0012285738375064346)"
      ]
     },
     "execution_count": 53,
     "metadata": {},
     "output_type": "execute_result"
    }
   ],
   "source": [
    "# ウェルチのt検定\n",
    "\n",
    "import numpy as np\n",
    "from scipy import stats\n",
    "\n",
    "A = np.array([13.8, 10.2, 4.6, 10.0, 4.2, 16.1, 14.4, 4.9, 7.7, 11.4])\n",
    "B = np.array([3.3, 2.6, 4.0, 4.7, 1.9, 2.9, 4.7, 5.3, 4.3, 3.0, 2.0])\n",
    "\n",
    "print('A平均：', np.mean(A))\n",
    "print('B平均：', np.mean(B))\n",
    "stats.ttest_ind(A, B, equal_var=False)"
   ]
  },
  {
   "cell_type": "code",
   "execution_count": 55,
   "metadata": {},
   "outputs": [
    {
     "name": "stdout",
     "output_type": "stream",
     "text": [
      "A平均： 2.0018181818181815\n",
      "B平均： 1.1133333333333333\n"
     ]
    },
    {
     "data": {
      "text/plain": [
       "MannwhitneyuResult(statistic=91.0, pvalue=0.0018253610099931035)"
      ]
     },
     "execution_count": 55,
     "metadata": {},
     "output_type": "execute_result"
    }
   ],
   "source": [
    "# ウィルコクソンの順位和検定\n",
    "\n",
    "import numpy as np\n",
    "from scipy import stats\n",
    "\n",
    "A = np.array([1.83, 1.50, 1.62, 2.48, 1.68, 1.88, 1.55, 3.06, 1.30, 2.01, 3.11])\n",
    "B = np.array([0.88, 0.65, 0.60, 1.05, 1.06, 1.29, 1.06, 2.14, 1.29])\n",
    "\n",
    "print('A平均：', np.mean(A))\n",
    "print('B平均：', np.mean(B))\n",
    "stats.mannwhitneyu(A, B, alternative='two-sided')"
   ]
  },
  {
   "cell_type": "code",
   "execution_count": 56,
   "metadata": {},
   "outputs": [
    {
     "name": "stdout",
     "output_type": "stream",
     "text": [
      "A平均： 1.8777777777777775\n",
      "B平均： 1.1133333333333333\n"
     ]
    },
    {
     "name": "stderr",
     "output_type": "stream",
     "text": [
      "/opt/conda/lib/python3.7/site-packages/scipy/stats/morestats.py:2879: UserWarning: Sample size too small for normal approximation.\n",
      "  warnings.warn(\"Sample size too small for normal approximation.\")\n"
     ]
    },
    {
     "data": {
      "text/plain": [
       "WilcoxonResult(statistic=0.0, pvalue=0.007685794055213263)"
      ]
     },
     "execution_count": 56,
     "metadata": {},
     "output_type": "execute_result"
    }
   ],
   "source": [
    "# ウィルコクソンの符号順位和検定\n",
    "\n",
    "import numpy as np\n",
    "from scipy import stats\n",
    "import matplotlib.pyplot as plt\n",
    "\n",
    "A = np.array([1.83, 1.50, 1.62, 2.48, 1.68, 1.88, 1.55, 3.06, 1.30])\n",
    "B = np.array([0.88, 0.65, 0.60, 1.05, 1.06, 1.29, 1.06, 2.14, 1.29])\n",
    "\n",
    "print('A平均：', np.mean(A))\n",
    "print('B平均：', np.mean(B))\n",
    "stats.wilcoxon(A, B)"
   ]
  },
  {
   "cell_type": "code",
   "execution_count": 57,
   "metadata": {},
   "outputs": [
    {
     "data": {
      "text/plain": [
       "(array([2., 1., 3., 0., 2., 0., 0., 0., 0., 1.]),\n",
       " array([0.6  , 0.754, 0.908, 1.062, 1.216, 1.37 , 1.524, 1.678, 1.832,\n",
       "        1.986, 2.14 ]),\n",
       " <a list of 10 Patch objects>)"
      ]
     },
     "execution_count": 57,
     "metadata": {},
     "output_type": "execute_result"
    },
    {
     "data": {
      "image/png": "[encoded data removed]",
      "text/plain": [
       "<Figure size 432x288 with 1 Axes>"
      ]
     },
     "metadata": {
      "needs_background": "light"
     },
     "output_type": "display_data"
    }
   ],
   "source": [
    "plt.hist(A)\n",
    "plt.hist(B)"
   ]
  },
  {
   "cell_type": "code",
   "execution_count": 62,
   "metadata": {},
   "outputs": [
    {
     "name": "stdout",
     "output_type": "stream",
     "text": [
      "vote    against  agree\n",
      "sex                   \n",
      "female        5      5\n",
      "male          6      4\n",
      "カイ二乗値: 0.20202020202020202\n",
      "p値: 0.653095114932182\n",
      "自由度は 1\n",
      "[[5.5 4.5]\n",
      " [5.5 4.5]]\n"
     ]
    }
   ],
   "source": [
    "# カイ二乗検定\n",
    "\n",
    "import numpy as np\n",
    "import pandas as pd\n",
    "from scipy import stats\n",
    "\n",
    "# サンプルデータ\n",
    "sex = np.random.choice(['male', 'female'], size=20)\n",
    "vote = np.random.choice(['agree', 'against'], size=20)\n",
    "cross = pd.crosstab(index=df['sex'],columns=df['vote'])\n",
    "print(cross)\n",
    "\n",
    "x2, p, dof, expected = stats.chi2_contingency(cross, correction=False)\n",
    "print(\"カイ二乗値:\", x2)\n",
    "print(\"p値:\", p)\n",
    "print(\"自由度は\", dof)\n",
    "print(expected)"
   ]
  },
  {
   "cell_type": "code",
   "execution_count": null,
   "metadata": {},
   "outputs": [],
   "source": []
  }
 ],
 "metadata": {
  "kernelspec": {
   "display_name": "Python 3",
   "language": "python",
   "name": "python3"
  },
  "language_info": {
   "codemirror_mode": {
    "name": "ipython",
    "version": 3
   },
   "file_extension": ".py",
   "mimetype": "text/x-python",
   "name": "python",
   "nbconvert_exporter": "python",
   "pygments_lexer": "ipython3",
   "version": "3.7.6"
  }
 },
 "nbformat": 4,
 "nbformat_minor": 4
}
