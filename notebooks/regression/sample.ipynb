{
 "cells": [
  {
   "cell_type": "code",
   "execution_count": 57,
   "metadata": {},
   "outputs": [
    {
     "data": {
      "text/html": [
       "<div>\n",
       "<style scoped>\n",
       "    .dataframe tbody tr th:only-of-type {\n",
       "        vertical-align: middle;\n",
       "    }\n",
       "\n",
       "    .dataframe tbody tr th {\n",
       "        vertical-align: top;\n",
       "    }\n",
       "\n",
       "    .dataframe thead th {\n",
       "        text-align: right;\n",
       "    }\n",
       "</style>\n",
       "<table border=\"1\" class=\"dataframe\">\n",
       "  <thead>\n",
       "    <tr style=\"text-align: right;\">\n",
       "      <th></th>\n",
       "      <th>output</th>\n",
       "      <th>input01</th>\n",
       "      <th>input02</th>\n",
       "    </tr>\n",
       "  </thead>\n",
       "  <tbody>\n",
       "    <tr>\n",
       "      <th>0</th>\n",
       "      <td>10</td>\n",
       "      <td>1</td>\n",
       "      <td>5</td>\n",
       "    </tr>\n",
       "    <tr>\n",
       "      <th>1</th>\n",
       "      <td>20</td>\n",
       "      <td>3</td>\n",
       "      <td>10</td>\n",
       "    </tr>\n",
       "    <tr>\n",
       "      <th>2</th>\n",
       "      <td>30</td>\n",
       "      <td>5</td>\n",
       "      <td>20</td>\n",
       "    </tr>\n",
       "    <tr>\n",
       "      <th>3</th>\n",
       "      <td>40</td>\n",
       "      <td>6</td>\n",
       "      <td>30</td>\n",
       "    </tr>\n",
       "    <tr>\n",
       "      <th>4</th>\n",
       "      <td>50</td>\n",
       "      <td>10</td>\n",
       "      <td>35</td>\n",
       "    </tr>\n",
       "    <tr>\n",
       "      <th>5</th>\n",
       "      <td>60</td>\n",
       "      <td>14</td>\n",
       "      <td>35</td>\n",
       "    </tr>\n",
       "    <tr>\n",
       "      <th>6</th>\n",
       "      <td>70</td>\n",
       "      <td>8</td>\n",
       "      <td>50</td>\n",
       "    </tr>\n",
       "    <tr>\n",
       "      <th>7</th>\n",
       "      <td>80</td>\n",
       "      <td>17</td>\n",
       "      <td>70</td>\n",
       "    </tr>\n",
       "    <tr>\n",
       "      <th>8</th>\n",
       "      <td>90</td>\n",
       "      <td>15</td>\n",
       "      <td>85</td>\n",
       "    </tr>\n",
       "    <tr>\n",
       "      <th>9</th>\n",
       "      <td>100</td>\n",
       "      <td>20</td>\n",
       "      <td>100</td>\n",
       "    </tr>\n",
       "  </tbody>\n",
       "</table>\n",
       "</div>"
      ],
      "text/plain": [
       "   output  input01  input02\n",
       "0      10        1        5\n",
       "1      20        3       10\n",
       "2      30        5       20\n",
       "3      40        6       30\n",
       "4      50       10       35\n",
       "5      60       14       35\n",
       "6      70        8       50\n",
       "7      80       17       70\n",
       "8      90       15       85\n",
       "9     100       20      100"
      ]
     },
     "execution_count": 57,
     "metadata": {},
     "output_type": "execute_result"
    }
   ],
   "source": [
    "# テストデータの登録\n",
    "import pandas as pd\n",
    "import numpy as np\n",
    "\n",
    "data = pd.DataFrame({'output': [10, 20, 30, 40, 50, 60, 70, 80, 90, 100],\n",
    "                     'input01': [1, 3, 5, 6, 10, 14, 8, 17, 15, 20],\n",
    "                     'input02': [5, 10, 20, 30, 35, 35, 50, 70, 85, 100]},)\n",
    "data"
   ]
  },
  {
   "cell_type": "code",
   "execution_count": 58,
   "metadata": {},
   "outputs": [
    {
     "name": "stdout",
     "output_type": "stream",
     "text": [
      "モデルのパラメータ: {'copy_X': True, 'fit_intercept': True, 'n_jobs': None, 'normalize': False}\n",
      "回帰係数: [4.45327487]\n",
      "切片 (誤差): 10.912578788709233\n",
      "決定係数(X,Yの相関): 0.8771602016326598\n",
      "回帰式：[alcohol] = 4.45327486982735 × [density] + 10.912578788709233\n"
     ]
    }
   ],
   "source": [
    "# input01とoutputで単回帰分析\n",
    "from sklearn import linear_model\n",
    "model = linear_model.LinearRegression()\n",
    "\n",
    "# 説明変数にinput01を利用\n",
    "X = data.loc[:, ['input01']].values\n",
    "# 目的変数にoutputを利用\n",
    "Y = data['output'].values\n",
    "\n",
    "# 予測モデルを作成\n",
    "model.fit(X, Y)\n",
    "print('モデルのパラメータ:', model.get_params())\n",
    "print('回帰係数:', model.coef_)\n",
    "print('切片 (誤差):', model.intercept_)\n",
    "print('決定係数(X,Yの相関):', model.score(X, Y))\n",
    "print('回帰式：[alcohol] = %s × [density] + %s' % (model.coef_[0], model.intercept_))"
   ]
  },
  {
   "cell_type": "code",
   "execution_count": 59,
   "metadata": {},
   "outputs": [
    {
     "name": "stdout",
     "output_type": "stream",
     "text": [
      "                            OLS Regression Results                            \n",
      "==============================================================================\n",
      "Dep. Variable:                      y   R-squared:                       0.877\n",
      "Model:                            OLS   Adj. R-squared:                  0.862\n",
      "Method:                 Least Squares   F-statistic:                     57.13\n",
      "Date:                Fri, 20 Mar 2020   Prob (F-statistic):           6.56e-05\n",
      "Time:                        23:33:37   Log-Likelihood:                -37.282\n",
      "No. Observations:                  10   AIC:                             78.56\n",
      "Df Residuals:                       8   BIC:                             79.17\n",
      "Df Model:                           1                                         \n",
      "Covariance Type:            nonrobust                                         \n",
      "==============================================================================\n",
      "                 coef    std err          t      P>|t|      [0.025      0.975]\n",
      "------------------------------------------------------------------------------\n",
      "const         10.9126      6.833      1.597      0.149      -4.845      26.670\n",
      "x1             4.4533      0.589      7.558      0.000       3.095       5.812\n",
      "==============================================================================\n",
      "Omnibus:                        5.725   Durbin-Watson:                   2.878\n",
      "Prob(Omnibus):                  0.057   Jarque-Bera (JB):                2.315\n",
      "Skew:                           1.150   Prob(JB):                        0.314\n",
      "Kurtosis:                       3.513   Cond. No.                         22.4\n",
      "==============================================================================\n",
      "\n",
      "Warnings:\n",
      "[1] Standard Errors assume that the covariance matrix of the errors is correctly specified.\n"
     ]
    },
    {
     "name": "stderr",
     "output_type": "stream",
     "text": [
      "/opt/conda/lib/python3.7/site-packages/scipy/stats/stats.py:1535: UserWarning: kurtosistest only valid for n>=20 ... continuing anyway, n=10\n",
      "  \"anyway, n=%i\" % int(n))\n"
     ]
    }
   ],
   "source": [
    "# statsmodelsを使った回帰分析\n",
    "import statsmodels.api as sm\n",
    "\n",
    "model = sm.OLS(Y, sm.add_constant(X))\n",
    "result = model.fit(disp=0)\n",
    "print(result.summary())"
   ]
  },
  {
   "cell_type": "code",
   "execution_count": 21,
   "metadata": {},
   "outputs": [
    {
     "data": {
      "text/plain": [
       "[<matplotlib.lines.Line2D at 0x7f64d914ced0>]"
      ]
     },
     "execution_count": 21,
     "metadata": {},
     "output_type": "execute_result"
    },
    {
     "data": {
      "image/png": "[encoded data removed]",
      "text/plain": [
       "<Figure size 432x288 with 1 Axes>"
      ]
     },
     "metadata": {
      "needs_background": "light"
     },
     "output_type": "display_data"
    }
   ],
   "source": [
    "# グラフ化\n",
    "import matplotlib.pyplot as plt\n",
    " \n",
    "# 散布図\n",
    "plt.scatter(X, Y)\n",
    " \n",
    "# 回帰直線\n",
    "plt.plot(X, model.predict(X), color='black')"
   ]
  },
  {
   "cell_type": "code",
   "execution_count": 60,
   "metadata": {},
   "outputs": [
    {
     "name": "stdout",
     "output_type": "stream",
     "text": [
      "モデルのパラメータ: {'copy_X': True, 'fit_intercept': True, 'n_jobs': None, 'normalize': False}\n",
      "回帰係数: [0.92450766]\n",
      "切片 (誤差): 14.321663019693652\n",
      "決定係数(X,Yの相関): 0.946919965519528\n",
      "回帰式：[alcohol] = 0.9245076586433261 × [density] + 14.321663019693652\n"
     ]
    }
   ],
   "source": [
    "# input02とoutputで単回帰分析\n",
    "from sklearn import linear_model\n",
    "model = linear_model.LinearRegression()\n",
    "\n",
    "# 説明変数にinput02を利用\n",
    "X = data.loc[:, ['input02']].values\n",
    "# 目的変数にoutputを利用\n",
    "Y = data['output'].values\n",
    "\n",
    "# 予測モデルを作成\n",
    "model.fit(X, Y)\n",
    "print('モデルのパラメータ:', model.get_params())\n",
    "print('回帰係数:', model.coef_)\n",
    "print('切片 (誤差):', model.intercept_)\n",
    "print('決定係数(X,Yの相関):', model.score(X, Y))\n",
    "print('回帰式：[alcohol] = %s × [density] + %s' % (model.coef_[0], model.intercept_))"
   ]
  },
  {
   "cell_type": "code",
   "execution_count": 25,
   "metadata": {},
   "outputs": [
    {
     "data": {
      "text/plain": [
       "[<matplotlib.lines.Line2D at 0x7f64d912d790>]"
      ]
     },
     "execution_count": 25,
     "metadata": {},
     "output_type": "execute_result"
    },
    {
     "data": {
      "image/png": "[encoded data removed]",
      "text/plain": [
       "<Figure size 432x288 with 1 Axes>"
      ]
     },
     "metadata": {
      "needs_background": "light"
     },
     "output_type": "display_data"
    }
   ],
   "source": [
    "# グラフ化\n",
    "import matplotlib.pyplot as plt\n",
    " \n",
    "# 散布図\n",
    "plt.scatter(X, Y)\n",
    " \n",
    "# 回帰直線\n",
    "plt.plot(X, model.predict(X), color='black')"
   ]
  },
  {
   "cell_type": "code",
   "execution_count": 61,
   "metadata": {},
   "outputs": [
    {
     "data": {
      "text/html": [
       "<div>\n",
       "<style scoped>\n",
       "    .dataframe tbody tr th:only-of-type {\n",
       "        vertical-align: middle;\n",
       "    }\n",
       "\n",
       "    .dataframe tbody tr th {\n",
       "        vertical-align: top;\n",
       "    }\n",
       "\n",
       "    .dataframe thead th {\n",
       "        text-align: right;\n",
       "    }\n",
       "</style>\n",
       "<table border=\"1\" class=\"dataframe\">\n",
       "  <thead>\n",
       "    <tr style=\"text-align: right;\">\n",
       "      <th></th>\n",
       "      <th>output</th>\n",
       "      <th>input01</th>\n",
       "      <th>input02</th>\n",
       "    </tr>\n",
       "  </thead>\n",
       "  <tbody>\n",
       "    <tr>\n",
       "      <th>0</th>\n",
       "      <td>-0.500000</td>\n",
       "      <td>-0.468421</td>\n",
       "      <td>-0.410526</td>\n",
       "    </tr>\n",
       "    <tr>\n",
       "      <th>1</th>\n",
       "      <td>-0.388889</td>\n",
       "      <td>-0.363158</td>\n",
       "      <td>-0.357895</td>\n",
       "    </tr>\n",
       "    <tr>\n",
       "      <th>2</th>\n",
       "      <td>-0.277778</td>\n",
       "      <td>-0.257895</td>\n",
       "      <td>-0.252632</td>\n",
       "    </tr>\n",
       "    <tr>\n",
       "      <th>3</th>\n",
       "      <td>-0.166667</td>\n",
       "      <td>-0.205263</td>\n",
       "      <td>-0.147368</td>\n",
       "    </tr>\n",
       "    <tr>\n",
       "      <th>4</th>\n",
       "      <td>-0.055556</td>\n",
       "      <td>0.005263</td>\n",
       "      <td>-0.094737</td>\n",
       "    </tr>\n",
       "  </tbody>\n",
       "</table>\n",
       "</div>"
      ],
      "text/plain": [
       "     output   input01   input02\n",
       "0 -0.500000 -0.468421 -0.410526\n",
       "1 -0.388889 -0.363158 -0.357895\n",
       "2 -0.277778 -0.257895 -0.252632\n",
       "3 -0.166667 -0.205263 -0.147368\n",
       "4 -0.055556  0.005263 -0.094737"
      ]
     },
     "execution_count": 61,
     "metadata": {},
     "output_type": "execute_result"
    }
   ],
   "source": [
    "# 正規化して重回帰分析\n",
    "from sklearn import linear_model\n",
    "model = linear_model.LinearRegression()\n",
    "\n",
    "# データフレームの各列を正規化\n",
    "data2 = data.apply(lambda x: (x - np.mean(x)) / (np.max(x) - np.min(x)))\n",
    "data2.head()"
   ]
  },
  {
   "cell_type": "code",
   "execution_count": 62,
   "metadata": {},
   "outputs": [
    {
     "name": "stdout",
     "output_type": "stream",
     "text": [
      "      name    result\n",
      "0  input01  0.295143\n",
      "1  input02  0.707205\n",
      "切片(誤差): 1.6679414843100476e-17\n"
     ]
    }
   ],
   "source": [
    "# 説明変数にoutput以外を利用\n",
    "data2_except_output = data2.drop(\"output\", axis=1)\n",
    "X = data2_except_output\n",
    "# 目的変数にoutputを利用\n",
    "Y = data2['output'].values\n",
    " \n",
    "# 予測モデルを作成\n",
    "model.fit(X, Y)\n",
    " \n",
    "# 偏回帰係数\n",
    "print(pd.DataFrame({\"name\":X.columns,\n",
    "                    \"result\":np.abs(model.coef_)}).sort_values(by='result'))\n",
    " \n",
    "print('切片(誤差):', model.intercept_)"
   ]
  },
  {
   "cell_type": "code",
   "execution_count": 63,
   "metadata": {},
   "outputs": [
    {
     "name": "stdout",
     "output_type": "stream",
     "text": [
      "                            OLS Regression Results                            \n",
      "==============================================================================\n",
      "Dep. Variable:                      y   R-squared:                       0.962\n",
      "Model:                            OLS   Adj. R-squared:                  0.951\n",
      "Method:                 Least Squares   F-statistic:                     87.64\n",
      "Date:                Fri, 20 Mar 2020   Prob (F-statistic):           1.11e-05\n",
      "Time:                        23:36:48   Log-Likelihood:                 13.530\n",
      "No. Observations:                  10   AIC:                            -21.06\n",
      "Df Residuals:                       7   BIC:                            -20.15\n",
      "Df Model:                           2                                         \n",
      "Covariance Type:            nonrobust                                         \n",
      "==============================================================================\n",
      "                 coef    std err          t      P>|t|      [0.025      0.975]\n",
      "------------------------------------------------------------------------------\n",
      "const      -1.388e-17      0.024  -5.87e-16      1.000      -0.056       0.056\n",
      "input01        0.2951      0.180      1.636      0.146      -0.132       0.722\n",
      "input02        0.7072      0.180      3.923      0.006       0.281       1.133\n",
      "==============================================================================\n",
      "Omnibus:                        6.793   Durbin-Watson:                   1.330\n",
      "Prob(Omnibus):                  0.033   Jarque-Bera (JB):                2.620\n",
      "Skew:                           1.171   Prob(JB):                        0.270\n",
      "Kurtosis:                       3.896   Cond. No.                         10.5\n",
      "==============================================================================\n",
      "\n",
      "Warnings:\n",
      "[1] Standard Errors assume that the covariance matrix of the errors is correctly specified.\n"
     ]
    },
    {
     "name": "stderr",
     "output_type": "stream",
     "text": [
      "/opt/conda/lib/python3.7/site-packages/numpy/core/fromnumeric.py:2495: FutureWarning: Method .ptp is deprecated and will be removed in a future version. Use numpy.ptp instead.\n",
      "  return ptp(axis=axis, out=out, **kwargs)\n",
      "/opt/conda/lib/python3.7/site-packages/scipy/stats/stats.py:1535: UserWarning: kurtosistest only valid for n>=20 ... continuing anyway, n=10\n",
      "  \"anyway, n=%i\" % int(n))\n"
     ]
    }
   ],
   "source": [
    "# statsmodelsを使った重回帰分析\n",
    "import statsmodels.api as sm\n",
    "\n",
    "# 予測モデルを作成\n",
    "model = sm.OLS(Y, sm.add_constant(X))\n",
    "result = model.fit(disp=0)\n",
    "print(result.summary())"
   ]
  },
  {
   "cell_type": "code",
   "execution_count": null,
   "metadata": {},
   "outputs": [],
   "source": []
  }
 ],
 "metadata": {
  "kernelspec": {
   "display_name": "Python 3",
   "language": "python",
   "name": "python3"
  },
  "language_info": {
   "codemirror_mode": {
    "name": "ipython",
    "version": 3
   },
   "file_extension": ".py",
   "mimetype": "text/x-python",
   "name": "python",
   "nbconvert_exporter": "python",
   "pygments_lexer": "ipython3",
   "version": "3.7.6"
  }
 },
 "nbformat": 4,
 "nbformat_minor": 4
}
