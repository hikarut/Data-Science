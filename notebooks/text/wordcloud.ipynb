{
 "cells": [
  {
   "cell_type": "code",
   "execution_count": 10,
   "metadata": {},
   "outputs": [
    {
     "data": {
      "text/plain": [
       "<wordcloud.wordcloud.WordCloud at 0x7f75098c9750>"
      ]
     },
     "execution_count": 10,
     "metadata": {},
     "output_type": "execute_result"
    }
   ],
   "source": [
    "from wordcloud import WordCloud\n",
    "import pandas as pd\n",
    "\n",
    "# text = '私は本当に私のために勉強している'\n",
    "text_pd = pd.read_csv('sample.txt').values\n",
    "text_array = [*map(lambda x: x[0], text_pd)]\n",
    "text = \" \".join(text_array)\n",
    "\n",
    "fpath = \"../../fonts/mplus-1c-black.ttf\"\n",
    "\n",
    "wordcloud = WordCloud(background_color=\"white\", font_path=fpath, width=900, height=500).generate(text)\n",
    "wordcloud.to_file(\"./wordcloud_sample.png\")"
   ]
  },
  {
   "cell_type": "code",
   "execution_count": 34,
   "metadata": {},
   "outputs": [
    {
     "name": "stdout",
     "output_type": "stream",
     "text": [
      "['私', 'は', '頑張っ', 'て', 'いる', '私', 'は', '元気です', '私', 'は', '今日', 'も', '元気です', '私', 'は', '明日', 'も', '元気です']\n",
      "私 は 頑張っ て いる 私 は 元気です 私 は 今日 も 元気です 私 は 明日 も 元気です\n"
     ]
    },
    {
     "data": {
      "text/plain": [
       "<wordcloud.wordcloud.WordCloud at 0x7f74acff0fd0>"
      ]
     },
     "execution_count": 34,
     "metadata": {},
     "output_type": "execute_result"
    }
   ],
   "source": [
    "import MeCab\n",
    "# mecab = MeCab.Tagger(\"-Owakati\")\n",
    "# mecab = MeCab.Tagger('-d /usr/lib/x86_64-linux-gnu/mecab/dic/mecab-ipadic-neologd')\n",
    "# text = '私は本当に私のために勉強している'\n",
    "# mecab.parse(text).split()\n",
    "# mecab.parseToNode(text)\n",
    "\n",
    "def mecab_analysis(text):\n",
    "    mecab = MeCab.Tagger('-d /usr/lib/x86_64-linux-gnu/mecab/dic/mecab-ipadic-neologd')\n",
    "    node = mecab.parseToNode(text)\n",
    "    words=[]\n",
    "    while node:\n",
    "        if node.surface != \"\":  # ヘッダとフッタを除外\n",
    "            words.append(node.surface)\n",
    "            \n",
    "        node = node.next\n",
    "    \n",
    "    return words\n",
    "\n",
    "words = mecab_analysis(text)\n",
    "print(words)\n",
    "word_string = \" \".join(words)\n",
    "print(word_string)\n",
    "\n",
    "fpath = \"../../fonts/mplus-1c-black.ttf\"\n",
    "\n",
    "# ストップワードの設定\n",
    "stop_words = [ u'てる', u'いる', u'なる', u'れる', u'する', u'ある', u'こと', u'これ', u'さん', u'して', \\\n",
    "               u'くれる', u'やる', u'くださる', u'そう', u'せる', u'した',  u'思う',  \\\n",
    "               u'それ', u'ここ', u'ちゃん', u'くん',\n",
    "               u'', u'て', u'に', u'を', u'は', u'の', u'が', u'と', u'た', u'し', u'で', \\\n",
    "               u'ない', u'も', u'な', u'い', u'か', u'ので', u'よう', u'']\n",
    "\n",
    "wordcloud = WordCloud(\n",
    "    background_color=\"white\",\n",
    "    font_path=fpath,\n",
    "    width=900,\n",
    "    height=500,\n",
    "    regexp=\"[\\w']+\", # デフォルトだと2文字以上の単語しか抽出してこない\n",
    "    stopwords=set(stop_words),\n",
    ").generate(word_string)\n",
    "wordcloud.to_file(\"./wordcloud_sample.png\")"
   ]
  },
  {
   "cell_type": "code",
   "execution_count": null,
   "metadata": {},
   "outputs": [],
   "source": []
  }
 ],
 "metadata": {
  "kernelspec": {
   "display_name": "Python 3",
   "language": "python",
   "name": "python3"
  },
  "language_info": {
   "codemirror_mode": {
    "name": "ipython",
    "version": 3
   },
   "file_extension": ".py",
   "mimetype": "text/x-python",
   "name": "python",
   "nbconvert_exporter": "python",
   "pygments_lexer": "ipython3",
   "version": "3.7.6"
  }
 },
 "nbformat": 4,
 "nbformat_minor": 4
}
