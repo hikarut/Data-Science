{
 "cells": [
  {
   "cell_type": "code",
   "execution_count": 503,
   "metadata": {},
   "outputs": [],
   "source": [
    "import pandas as pd\n",
    "\n",
    "twitter202002 = pd.read_csv(\"tweet_activity_metrics_light940_20200201_20200301_ja.csv\", sep=\",\")\n",
    "twitter202003 = pd.read_csv(\"tweet_activity_metrics_light940_20200301_20200323_ja.csv\", sep=\",\")\n",
    "twitter_all = pd.concat([twitter202002, twitter202003])\n",
    "# 必要なデータだけピックアップ\n",
    "twitter_all_simple = twitter_all[['ツイートID', \n",
    "                                  'ツイート本文', \n",
    "                                  '時間', \n",
    "                                  'インプレッション', \n",
    "                                  'エンゲージメント',\n",
    "                                  'エンゲージメント率',\n",
    "                                  'リツイート',\n",
    "                                  '返信',\n",
    "                                  'いいね']]\n",
    "# twitter_all_simple\n",
    "# twitter_all_simple.sort_values('いいね', ascending=False)"
   ]
  },
  {
   "cell_type": "code",
   "execution_count": 496,
   "metadata": {},
   "outputs": [],
   "source": [
    "import datetime\n",
    "\n",
    "# 時間を3つに分類\n",
    "def cast_date(x):\n",
    "    datetime_utc = datetime.datetime.strptime(x, \"%Y-%m-%d %H:%M %z\")\n",
    "    datetime_jst = datetime_utc.astimezone(datetime.timezone(datetime.timedelta(hours=+9)))\n",
    "    hour = datetime_jst.hour\n",
    "#     hour = int(str(x)[11:13])\n",
    "    if hour >= 6 and hour < 12:\n",
    "        return '朝'\n",
    "    elif hour >= 12 and hour < 18:\n",
    "        return '昼'\n",
    "    elif (hour >= 18 and hour <= 24) or (hour >= 0 and hour < 6):\n",
    "        return '夜'\n",
    "\n",
    "# 時間を切り取る\n",
    "def cut_hour(x):\n",
    "    datetime_utc = datetime.datetime.strptime(x, \"%Y-%m-%d %H:%M %z\")\n",
    "    datetime_jst = datetime_utc.astimezone(datetime.timezone(datetime.timedelta(hours=+9)))\n",
    "    return datetime_jst.hour\n",
    "\n",
    "twitter_all_add_date = twitter_all_simple.copy()\n",
    "twitter_all_add_date['朝昼夜'] = twitterAllSimple['時間'].apply(lambda x : cast_date(x))\n",
    "twitter_all_add_date['時'] = twitter_all_simple['時間'].apply(lambda x : cut_hour(x))\n",
    "\n",
    "# twitterAllSimple['いいね'].apply(lambda x : x*20)\n",
    "# twitterAllSimple = twitterAllSimple.apply(lambda x : x['いいね']*20, axis=1)\n",
    "# twitterAllSimple.dtypes\n",
    "# twitter_all_add_date\n",
    "# twitterAllSimple"
   ]
  },
  {
   "cell_type": "code",
   "execution_count": 498,
   "metadata": {},
   "outputs": [],
   "source": [
    "# twitter_all_add_date.groupby('時').mean()\n",
    "# twitter_all_add_date.groupby('時').sum()\n",
    "# twitter_all_add_date.groupby('時').count()\n",
    "\n",
    "# twitter_all_add_date.groupby('朝昼夜').size()\n",
    "# twitter_all_add_date.groupby('朝昼夜').size().keys\n",
    "# twitter_all_add_date.groupby('朝昼夜').size().values\n",
    "# twitter_all_add_date.groupby('朝昼夜').describe()"
   ]
  },
  {
   "cell_type": "markdown",
   "metadata": {},
   "source": [
    "* [matplotlib でヒストグラムを描く](https://pythondatascience.plavox.info/matplotlib/%E3%83%92%E3%82%B9%E3%83%88%E3%82%B0%E3%83%A9%E3%83%A0)\n",
    "* [matplotlibのレイアウト調節](https://qiita.com/aurueps/items/d04a3bb127e2d6e6c21b)"
   ]
  },
  {
   "cell_type": "code",
   "execution_count": 504,
   "metadata": {},
   "outputs": [
    {
     "data": {
      "text/plain": [
       "Text(0, 0.5, 'tweet count')"
      ]
     },
     "execution_count": 504,
     "metadata": {},
     "output_type": "execute_result"
    },
    {
     "data": {
      "image/png": "[encoded data removed]",
      "text/plain": [
       "<Figure size 1080x504 with 1 Axes>"
      ]
     },
     "metadata": {
      "needs_background": "light"
     },
     "output_type": "display_data"
    }
   ],
   "source": [
    "import matplotlib.pyplot as plt\n",
    "import numpy as np\n",
    "\n",
    "# fig, ax = plt.subplots(facecolor=\"w\")\n",
    "# ax.plot(x, y)\n",
    "\n",
    "x = twitter_all_add_date['時'].values\n",
    "# x = twitter_all_add_date.groupby('時').count()\n",
    "\n",
    "plt.xlim(0, 24) # (1) x軸の表示範囲\n",
    "plt.xticks(range(24))\n",
    "plt.rcParams[\"figure.figsize\"] = [15,7] # 図の縦横のサイズ([横(inch),縦(inch)])\n",
    "plt.rcParams[\"font.size\"] = 15 # フォントサイズ デフォルト12\n",
    "plt.xlabel(\"hour\")\n",
    "plt.ylabel(\"tweet count\")\n",
    "# plt.hist(x, rwidth=0.7, bins=np.arange(-1, 24)+0.5)\n",
    "# plt.hist(x, rwidth=0.7, bins=24)\n"
   ]
  },
  {
   "cell_type": "code",
   "execution_count": 370,
   "metadata": {},
   "outputs": [],
   "source": [
    "# date_data = twitter_all_add_date.groupby('朝昼夜').size()\n",
    "# plt.bar(np.arange(len(date_data)), date_data.values)"
   ]
  },
  {
   "cell_type": "code",
   "execution_count": 505,
   "metadata": {},
   "outputs": [],
   "source": [
    "from scipy import stats\n",
    "\n",
    "# いいね数\n",
    "# morning = twitter_all_add_date.query(\"朝昼夜 == '朝'\")['いいね']\n",
    "# noon = twitter_all_add_date.query(\"朝昼夜 == '昼'\")['いいね']\n",
    "# evening = twitter_all_add_date.query(\"朝昼夜 == '夜'\")['いいね']\n",
    "# インプレッション\n",
    "morning = twitter_all_add_date.query(\"朝昼夜 == '朝'\")['インプレッション']\n",
    "noon = twitter_all_add_date.query(\"朝昼夜 == '昼'\")['インプレッション']\n",
    "evening = twitter_all_add_date.query(\"朝昼夜 == '夜'\")['インプレッション']\n",
    "\n",
    "# print('朝平均：', np.mean(morning))\n",
    "# print('昼平均：', np.mean(noon))\n",
    "# print('夜平均：', np.mean(evening))\n",
    "\n",
    "# 朝昼夜で有意差があるものを判定\n",
    "# print('朝と昼のウェルチのt検定:', stats.ttest_ind(morning, noon, equal_var=False))\n",
    "# print('朝と夜のウェルチのt検定:', stats.ttest_ind(morning, evening, equal_var=False))\n",
    "# print('昼と夜のウェルチのt検定:', stats.ttest_ind(noon, evening, equal_var=False))\n",
    "\n",
    "# print('朝と昼のウィルコクソンの順位和検定:', stats.mannwhitneyu(morning, noon, alternative='two-sided'))\n",
    "# print('朝と夜のウィルコクソンの順位和検定:', stats.mannwhitneyu(morning, evening, alternative='two-sided'))\n",
    "# print('昼と夜のウィルコクソンの順位和検定:', stats.mannwhitneyu(noon, evening, alternative='two-sided'))"
   ]
  },
  {
   "cell_type": "code",
   "execution_count": 506,
   "metadata": {},
   "outputs": [],
   "source": [
    "# 有意差がありそうな変数の具体的な値を見てみる\n",
    "# twitter_all_add_date.query(\"朝昼夜 == '朝'\").sort_values('いいね', ascending=False)\n",
    "# twitter_all_add_date.query(\"朝昼夜 == '朝'\").sort_values('インプレッション', ascending=False)\n",
    "# twitter_all_add_date.query(\"朝昼夜 == '夜'\").sort_values('いいね', ascending=False)\n",
    "# twitter_all_add_date.query(\"朝昼夜 == '夜'\").sort_values('インプレッション', ascending=False)"
   ]
  },
  {
   "cell_type": "code",
   "execution_count": 508,
   "metadata": {},
   "outputs": [],
   "source": [
    "# インプレッションといいねの相関\n",
    "\n",
    "# 外れ値削除\n",
    "twitter_all_simple_shaping = twitter_all_simple[twitter_all_simple['ツイートID'] != 1238040860505202689]\n",
    "\n",
    "impression = twitter_all_simple_shaping[['インプレッション']]\n",
    "good = twitter_all_simple_shaping[['いいね']]\n",
    "# impression.sort_values('インプレッション', ascending=False)\n",
    "\n",
    "# twitter_all_simple_shaping.sort_values('インプレッション', ascending=False)"
   ]
  },
  {
   "cell_type": "code",
   "execution_count": 509,
   "metadata": {},
   "outputs": [
    {
     "data": {
      "text/plain": [
       "Text(0, 0.5, 'good')"
      ]
     },
     "execution_count": 509,
     "metadata": {},
     "output_type": "execute_result"
    },
    {
     "data": {
      "image/png": "[encoded data removed]",
      "text/plain": [
       "<Figure size 1080x504 with 1 Axes>"
      ]
     },
     "metadata": {
      "needs_background": "light"
     },
     "output_type": "display_data"
    }
   ],
   "source": [
    "import matplotlib.pyplot as plt\n",
    "\n",
    "plt.rcParams[\"figure.figsize\"] = [15,7] # 図の縦横のサイズ([横(inch),縦(inch)])\n",
    "plt.rcParams[\"font.size\"] = 15 # フォントサイズ デフォルト12\n",
    "plt.title(\"scatter\")\n",
    "plt.xlabel(\"impression\")\n",
    "plt.ylabel(\"good\")\n",
    "# plt.scatter(impression, good, s=20, alpha=0.5)"
   ]
  },
  {
   "cell_type": "code",
   "execution_count": 510,
   "metadata": {},
   "outputs": [
    {
     "name": "stderr",
     "output_type": "stream",
     "text": [
      "/opt/conda/lib/python3.7/site-packages/numpy/core/fromnumeric.py:2495: FutureWarning: Method .ptp is deprecated and will be removed in a future version. Use numpy.ptp instead.\n",
      "  return ptp(axis=axis, out=out, **kwargs)\n"
     ]
    }
   ],
   "source": [
    "# statsmodelsを使った回帰分析\n",
    "import statsmodels.api as sm\n",
    "from sklearn import linear_model\n",
    "\n",
    "model = linear_model.LinearRegression()\n",
    "model.fit(impression.values, good.values)\n",
    "\n",
    "sm_model = sm.OLS(good, sm.add_constant(impression))\n",
    "result = sm_model.fit(disp=0)\n",
    "# print(result.summary())"
   ]
  },
  {
   "cell_type": "code",
   "execution_count": 512,
   "metadata": {},
   "outputs": [
    {
     "data": {
      "text/plain": [
       "Text(0, 0.5, 'good')"
      ]
     },
     "execution_count": 512,
     "metadata": {},
     "output_type": "execute_result"
    },
    {
     "data": {
      "image/png": "[encoded data removed]",
      "text/plain": [
       "<Figure size 1080x504 with 1 Axes>"
      ]
     },
     "metadata": {
      "needs_background": "light"
     },
     "output_type": "display_data"
    }
   ],
   "source": [
    "# 回帰直線\n",
    "plt.rcParams[\"figure.figsize\"] = [15,7] # 図の縦横のサイズ([横(inch),縦(inch)])\n",
    "plt.rcParams[\"font.size\"] = 15 # フォントサイズ デフォルト12\n",
    "plt.title(\"scatter\")\n",
    "plt.xlabel(\"impression\")\n",
    "plt.ylabel(\"good\")\n",
    "# plt.scatter(impression, good, s=20, alpha=0.5)\n",
    "# plt.plot(impression.values, model.predict(impression.values), color='black')"
   ]
  },
  {
   "cell_type": "code",
   "execution_count": null,
   "metadata": {},
   "outputs": [],
   "source": []
  }
 ],
 "metadata": {
  "kernelspec": {
   "display_name": "Python 3",
   "language": "python",
   "name": "python3"
  },
  "language_info": {
   "codemirror_mode": {
    "name": "ipython",
    "version": 3
   },
   "file_extension": ".py",
   "mimetype": "text/x-python",
   "name": "python",
   "nbconvert_exporter": "python",
   "pygments_lexer": "ipython3",
   "version": "3.7.6"
  }
 },
 "nbformat": 4,
 "nbformat_minor": 4
}
