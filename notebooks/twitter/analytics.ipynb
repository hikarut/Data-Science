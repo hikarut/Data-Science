{
 "cells": [
  {
   "cell_type": "code",
   "execution_count": 176,
   "metadata": {},
   "outputs": [],
   "source": [
    "import pandas as pd\n",
    "\n",
    "twitter202002 = pd.read_csv(\"tweet_activity_metrics_light940_20200201_20200301_ja.csv\", sep=\",\")\n",
    "twitter202003 = pd.read_csv(\"tweet_activity_metrics_light940_20200301_20200323_ja.csv\", sep=\",\")\n",
    "twitter_all = pd.concat([twitter202002, twitter202003])\n",
    "# 必要なデータだけピックアップ\n",
    "twitter_all_simple = twitter_all[['ツイートID', \n",
    "                                  'ツイート本文', \n",
    "                                  '時間', \n",
    "                                  'インプレッション', \n",
    "                                  'エンゲージメント',\n",
    "                                  'エンゲージメント率',\n",
    "                                  'リツイート',\n",
    "                                  '返信',\n",
    "                                  'いいね']]\n",
    "# twitter_all_simple"
   ]
  },
  {
   "cell_type": "code",
   "execution_count": 177,
   "metadata": {},
   "outputs": [],
   "source": [
    "# twitter_all_simple.sort_values('いいね', ascending=False)"
   ]
  },
  {
   "cell_type": "code",
   "execution_count": 178,
   "metadata": {},
   "outputs": [],
   "source": [
    "import datetime\n",
    "\n",
    "# 時間を3つに分類\n",
    "def cast_date(x):\n",
    "    hour = int(str(x)[11:13])\n",
    "    if hour >= 6 and hour < 12:\n",
    "        return '朝'\n",
    "    elif hour >= 12 and hour < 18:\n",
    "        return '昼'\n",
    "    elif (hour >= 18 and hour <= 24) or (hour >= 0 and hour < 6):\n",
    "        return '夜'\n",
    "\n",
    "# 時間を切り取る\n",
    "def cut_hour(x):\n",
    "    datetime_utc = datetime.datetime.strptime(x, \"%Y-%m-%d %H:%M %z\")\n",
    "    datetime_jst = datetime_utc.astimezone(datetime.timezone(datetime.timedelta(hours=+9)))\n",
    "    return datetime_jst.hour\n",
    "\n",
    "twitter_all_add_date = twitter_all_simple.copy()\n",
    "# twitterAllAddDate['朝昼夜'] = twitterAllSimple['時間'].apply(lambda x : castDate(x))\n",
    "twitter_all_add_date['時'] = twitter_all_simple['時間'].apply(lambda x : cut_hour(x))\n",
    "\n",
    "# twitterAllSimple['いいね'].apply(lambda x : x*20)\n",
    "# twitterAllSimple = twitterAllSimple.apply(lambda x : x['いいね']*20, axis=1)\n",
    "# twitterAllSimple.dtypes\n",
    "# twitter_all_add_date\n",
    "# twitterAllSimple"
   ]
  },
  {
   "cell_type": "code",
   "execution_count": 179,
   "metadata": {},
   "outputs": [],
   "source": [
    "# twitter_all_add_date.groupby('時').mean()\n",
    "# twitter_all_add_date.groupby('時').sum()\n",
    "# twitter_all_add_date.groupby('時').count()"
   ]
  },
  {
   "cell_type": "markdown",
   "metadata": {},
   "source": [
    "* [matplotlib でヒストグラムを描く](https://pythondatascience.plavox.info/matplotlib/%E3%83%92%E3%82%B9%E3%83%88%E3%82%B0%E3%83%A9%E3%83%A0)\n",
    "* [matplotlibのレイアウト調節](https://qiita.com/aurueps/items/d04a3bb127e2d6e6c21b)"
   ]
  },
  {
   "cell_type": "code",
   "execution_count": 181,
   "metadata": {},
   "outputs": [
    {
     "data": {
      "text/plain": [
       "Text(0, 0.5, 'tweet count')"
      ]
     },
     "execution_count": 181,
     "metadata": {},
     "output_type": "execute_result"
    },
    {
     "data": {
      "image/png": "[encoded data removed]",
      "text/plain": [
       "<Figure size 1080x504 with 1 Axes>"
      ]
     },
     "metadata": {
      "needs_background": "light"
     },
     "output_type": "display_data"
    }
   ],
   "source": [
    "import matplotlib.pyplot as plt\n",
    "\n",
    "# fig, ax = plt.subplots(facecolor=\"w\")\n",
    "# ax.plot(x, y)\n",
    "\n",
    "x = twitter_all_add_date['時']\n",
    "plt.rcParams[\"figure.figsize\"] = [15,7] # 図の縦横のサイズ([横(inch),縦(inch)])\n",
    "plt.rcParams[\"font.size\"] = 15 # フォントサイズ デフォルト12\n",
    "plt.xlabel(\"hour\")\n",
    "plt.ylabel(\"tweet count\")\n",
    "# plt.hist(x, rwidth=0.7, bins=24)"
   ]
  },
  {
   "cell_type": "code",
   "execution_count": null,
   "metadata": {},
   "outputs": [],
   "source": []
  }
 ],
 "metadata": {
  "kernelspec": {
   "display_name": "Python 3",
   "language": "python",
   "name": "python3"
  },
  "language_info": {
   "codemirror_mode": {
    "name": "ipython",
    "version": 3
   },
   "file_extension": ".py",
   "mimetype": "text/x-python",
   "name": "python",
   "nbconvert_exporter": "python",
   "pygments_lexer": "ipython3",
   "version": "3.7.6"
  }
 },
 "nbformat": 4,
 "nbformat_minor": 4
}
