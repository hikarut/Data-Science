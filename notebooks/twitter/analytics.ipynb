{
 "cells": [
  {
   "cell_type": "code",
   "execution_count": 1,
   "metadata": {},
   "outputs": [],
   "source": [
    "import pandas as pd\n",
    "\n",
    "twitter202002 = pd.read_csv(\"tweet_activity_metrics_light940_20200201_20200301_ja.csv\", sep=\",\")\n",
    "twitter202003 = pd.read_csv(\"tweet_activity_metrics_light940_20200301_20200323_ja.csv\", sep=\",\")\n",
    "twitter_all = pd.concat([twitter202002, twitter202003])\n",
    "# 必要なデータだけピックアップ\n",
    "twitter_all_simple = twitter_all[['ツイートID', \n",
    "                                  'ツイート本文', \n",
    "                                  '時間', \n",
    "                                  'インプレッション', \n",
    "                                  'エンゲージメント',\n",
    "                                  'エンゲージメント率',\n",
    "                                  'リツイート',\n",
    "                                  '返信',\n",
    "                                  'いいね']]\n",
    "# twitter_all_simple\n",
    "# twitter_all_simple.sort_values('いいね', ascending=False)"
   ]
  },
  {
   "cell_type": "code",
   "execution_count": 3,
   "metadata": {},
   "outputs": [],
   "source": [
    "import datetime\n",
    "\n",
    "# 時間を3つに分類\n",
    "def cast_date(x):\n",
    "    datetime_utc = datetime.datetime.strptime(x, \"%Y-%m-%d %H:%M %z\")\n",
    "    datetime_jst = datetime_utc.astimezone(datetime.timezone(datetime.timedelta(hours=+9)))\n",
    "    hour = datetime_jst.hour\n",
    "#     hour = int(str(x)[11:13])\n",
    "    if hour >= 6 and hour < 12:\n",
    "        return '朝'\n",
    "    elif hour >= 12 and hour < 18:\n",
    "        return '昼'\n",
    "    elif (hour >= 18 and hour <= 24) or (hour >= 0 and hour < 6):\n",
    "        return '夜'\n",
    "\n",
    "# 時間を切り取る\n",
    "def cut_hour(x):\n",
    "    datetime_utc = datetime.datetime.strptime(x, \"%Y-%m-%d %H:%M %z\")\n",
    "    datetime_jst = datetime_utc.astimezone(datetime.timezone(datetime.timedelta(hours=+9)))\n",
    "    return datetime_jst.hour\n",
    "\n",
    "twitter_all_add_date = twitter_all_simple.copy()\n",
    "twitter_all_add_date['朝昼夜'] = twitter_all_simple['時間'].apply(lambda x : cast_date(x))\n",
    "twitter_all_add_date['時'] = twitter_all_simple['時間'].apply(lambda x : cut_hour(x))\n",
    "\n",
    "# twitterAllSimple['いいね'].apply(lambda x : x*20)\n",
    "# twitterAllSimple = twitterAllSimple.apply(lambda x : x['いいね']*20, axis=1)\n",
    "# twitterAllSimple.dtypes\n",
    "# twitter_all_add_date\n",
    "# twitterAllSimple"
   ]
  },
  {
   "cell_type": "code",
   "execution_count": 5,
   "metadata": {},
   "outputs": [
    {
     "data": {
      "text/html": [
       "<div>\n",
       "<style scoped>\n",
       "    .dataframe tbody tr th:only-of-type {\n",
       "        vertical-align: middle;\n",
       "    }\n",
       "\n",
       "    .dataframe tbody tr th {\n",
       "        vertical-align: top;\n",
       "    }\n",
       "\n",
       "    .dataframe thead tr th {\n",
       "        text-align: left;\n",
       "    }\n",
       "\n",
       "    .dataframe thead tr:last-of-type th {\n",
       "        text-align: right;\n",
       "    }\n",
       "</style>\n",
       "<table border=\"1\" class=\"dataframe\">\n",
       "  <thead>\n",
       "    <tr>\n",
       "      <th></th>\n",
       "      <th colspan=\"8\" halign=\"left\">ツイートID</th>\n",
       "      <th colspan=\"2\" halign=\"left\">インプレッション</th>\n",
       "      <th>...</th>\n",
       "      <th colspan=\"2\" halign=\"left\">いいね</th>\n",
       "      <th colspan=\"8\" halign=\"left\">時</th>\n",
       "    </tr>\n",
       "    <tr>\n",
       "      <th></th>\n",
       "      <th>count</th>\n",
       "      <th>mean</th>\n",
       "      <th>std</th>\n",
       "      <th>min</th>\n",
       "      <th>25%</th>\n",
       "      <th>50%</th>\n",
       "      <th>75%</th>\n",
       "      <th>max</th>\n",
       "      <th>count</th>\n",
       "      <th>mean</th>\n",
       "      <th>...</th>\n",
       "      <th>75%</th>\n",
       "      <th>max</th>\n",
       "      <th>count</th>\n",
       "      <th>mean</th>\n",
       "      <th>std</th>\n",
       "      <th>min</th>\n",
       "      <th>25%</th>\n",
       "      <th>50%</th>\n",
       "      <th>75%</th>\n",
       "      <th>max</th>\n",
       "    </tr>\n",
       "    <tr>\n",
       "      <th>朝昼夜</th>\n",
       "      <th></th>\n",
       "      <th></th>\n",
       "      <th></th>\n",
       "      <th></th>\n",
       "      <th></th>\n",
       "      <th></th>\n",
       "      <th></th>\n",
       "      <th></th>\n",
       "      <th></th>\n",
       "      <th></th>\n",
       "      <th></th>\n",
       "      <th></th>\n",
       "      <th></th>\n",
       "      <th></th>\n",
       "      <th></th>\n",
       "      <th></th>\n",
       "      <th></th>\n",
       "      <th></th>\n",
       "      <th></th>\n",
       "      <th></th>\n",
       "      <th></th>\n",
       "    </tr>\n",
       "  </thead>\n",
       "  <tbody>\n",
       "    <tr>\n",
       "      <th>夜</th>\n",
       "      <td>109.0</td>\n",
       "      <td>1.234505e+18</td>\n",
       "      <td>4.881470e+15</td>\n",
       "      <td>1.223957e+18</td>\n",
       "      <td>1.230799e+18</td>\n",
       "      <td>1.235531e+18</td>\n",
       "      <td>1.238471e+18</td>\n",
       "      <td>1.241671e+18</td>\n",
       "      <td>109.0</td>\n",
       "      <td>846.366972</td>\n",
       "      <td>...</td>\n",
       "      <td>1.0</td>\n",
       "      <td>27.0</td>\n",
       "      <td>109.0</td>\n",
       "      <td>20.311927</td>\n",
       "      <td>2.470932</td>\n",
       "      <td>0.0</td>\n",
       "      <td>19.00</td>\n",
       "      <td>20.0</td>\n",
       "      <td>22.00</td>\n",
       "      <td>23.0</td>\n",
       "    </tr>\n",
       "    <tr>\n",
       "      <th>昼</th>\n",
       "      <td>20.0</td>\n",
       "      <td>1.235069e+18</td>\n",
       "      <td>4.167629e+15</td>\n",
       "      <td>1.227088e+18</td>\n",
       "      <td>1.231727e+18</td>\n",
       "      <td>1.234711e+18</td>\n",
       "      <td>1.238137e+18</td>\n",
       "      <td>1.241626e+18</td>\n",
       "      <td>20.0</td>\n",
       "      <td>808.800000</td>\n",
       "      <td>...</td>\n",
       "      <td>2.0</td>\n",
       "      <td>9.0</td>\n",
       "      <td>20.0</td>\n",
       "      <td>13.550000</td>\n",
       "      <td>1.503505</td>\n",
       "      <td>12.0</td>\n",
       "      <td>12.75</td>\n",
       "      <td>13.0</td>\n",
       "      <td>14.25</td>\n",
       "      <td>17.0</td>\n",
       "    </tr>\n",
       "    <tr>\n",
       "      <th>朝</th>\n",
       "      <td>41.0</td>\n",
       "      <td>1.232674e+18</td>\n",
       "      <td>5.788753e+15</td>\n",
       "      <td>1.223782e+18</td>\n",
       "      <td>1.228073e+18</td>\n",
       "      <td>1.231352e+18</td>\n",
       "      <td>1.238986e+18</td>\n",
       "      <td>1.241532e+18</td>\n",
       "      <td>41.0</td>\n",
       "      <td>462.878049</td>\n",
       "      <td>...</td>\n",
       "      <td>2.0</td>\n",
       "      <td>13.0</td>\n",
       "      <td>41.0</td>\n",
       "      <td>8.365854</td>\n",
       "      <td>1.512549</td>\n",
       "      <td>6.0</td>\n",
       "      <td>7.00</td>\n",
       "      <td>9.0</td>\n",
       "      <td>9.00</td>\n",
       "      <td>11.0</td>\n",
       "    </tr>\n",
       "  </tbody>\n",
       "</table>\n",
       "<p>3 rows × 64 columns</p>\n",
       "</div>"
      ],
      "text/plain": [
       "    ツイートID                                                          \\\n",
       "     count          mean           std           min           25%   \n",
       "朝昼夜                                                                  \n",
       "夜    109.0  1.234505e+18  4.881470e+15  1.223957e+18  1.230799e+18   \n",
       "昼     20.0  1.235069e+18  4.167629e+15  1.227088e+18  1.231727e+18   \n",
       "朝     41.0  1.232674e+18  5.788753e+15  1.223782e+18  1.228073e+18   \n",
       "\n",
       "                                              インプレッション              ...  いいね  \\\n",
       "              50%           75%           max    count        mean  ...  75%   \n",
       "朝昼夜                                                                 ...        \n",
       "夜    1.235531e+18  1.238471e+18  1.241671e+18    109.0  846.366972  ...  1.0   \n",
       "昼    1.234711e+18  1.238137e+18  1.241626e+18     20.0  808.800000  ...  2.0   \n",
       "朝    1.231352e+18  1.238986e+18  1.241532e+18     41.0  462.878049  ...  2.0   \n",
       "\n",
       "               時                                                       \n",
       "      max  count       mean       std   min    25%   50%    75%   max  \n",
       "朝昼夜                                                                    \n",
       "夜    27.0  109.0  20.311927  2.470932   0.0  19.00  20.0  22.00  23.0  \n",
       "昼     9.0   20.0  13.550000  1.503505  12.0  12.75  13.0  14.25  17.0  \n",
       "朝    13.0   41.0   8.365854  1.512549   6.0   7.00   9.0   9.00  11.0  \n",
       "\n",
       "[3 rows x 64 columns]"
      ]
     },
     "execution_count": 5,
     "metadata": {},
     "output_type": "execute_result"
    }
   ],
   "source": [
    "# twitter_all_add_date.groupby('時').mean()\n",
    "# twitter_all_add_date.groupby('時').sum()\n",
    "# twitter_all_add_date.groupby('時').count()\n",
    "\n",
    "# twitter_all_add_date.groupby('朝昼夜').size()\n",
    "# twitter_all_add_date.groupby('朝昼夜').size().keys\n",
    "# twitter_all_add_date.groupby('朝昼夜').size().values\n",
    "twitter_all_add_date.groupby('朝昼夜').describe()"
   ]
  },
  {
   "cell_type": "markdown",
   "metadata": {},
   "source": [
    "* [matplotlib でヒストグラムを描く](https://pythondatascience.plavox.info/matplotlib/%E3%83%92%E3%82%B9%E3%83%88%E3%82%B0%E3%83%A9%E3%83%A0)\n",
    "* [matplotlibのレイアウト調節](https://qiita.com/aurueps/items/d04a3bb127e2d6e6c21b)"
   ]
  },
  {
   "cell_type": "code",
   "execution_count": 10,
   "metadata": {},
   "outputs": [
    {
     "data": {
      "text/plain": [
       "(array([ 1.,  0.,  0.,  0.,  0.,  0.,  3., 14.,  3., 11.,  6.,  4.,  5.,\n",
       "         8.,  2.,  2.,  2.,  1.,  9., 21., 30., 18., 15., 15.]),\n",
       " array([-0.5,  0.5,  1.5,  2.5,  3.5,  4.5,  5.5,  6.5,  7.5,  8.5,  9.5,\n",
       "        10.5, 11.5, 12.5, 13.5, 14.5, 15.5, 16.5, 17.5, 18.5, 19.5, 20.5,\n",
       "        21.5, 22.5, 23.5]),\n",
       " <a list of 24 Patch objects>)"
      ]
     },
     "execution_count": 10,
     "metadata": {},
     "output_type": "execute_result"
    },
    {
     "data": {
      "image/png": "[encoded data removed]",
      "text/plain": [
       "<Figure size 1080x504 with 1 Axes>"
      ]
     },
     "metadata": {
      "needs_background": "light"
     },
     "output_type": "display_data"
    }
   ],
   "source": [
    "import matplotlib.pyplot as plt\n",
    "import numpy as np\n",
    "\n",
    "# fig, ax = plt.subplots(facecolor=\"w\")\n",
    "# ax.plot(x, y)\n",
    "\n",
    "x = twitter_all_add_date['時'].values\n",
    "# x = twitter_all_add_date.groupby('時').count()\n",
    "\n",
    "plt.xlim(0, 24) # (1) x軸の表示範囲\n",
    "plt.xticks(range(24))\n",
    "plt.rcParams[\"figure.figsize\"] = [15,7] # 図の縦横のサイズ([横(inch),縦(inch)])\n",
    "plt.rcParams[\"font.size\"] = 15 # フォントサイズ デフォルト12\n",
    "plt.xlabel(\"hour\")\n",
    "plt.ylabel(\"tweet count\")\n",
    "plt.hist(x, rwidth=0.7, bins=np.arange(-1, 24)+0.5)\n",
    "# plt.hist(x, rwidth=0.7, bins=24)\n"
   ]
  },
  {
   "cell_type": "code",
   "execution_count": 11,
   "metadata": {},
   "outputs": [
    {
     "data": {
      "text/plain": [
       "<BarContainer object of 3 artists>"
      ]
     },
     "execution_count": 11,
     "metadata": {},
     "output_type": "execute_result"
    },
    {
     "data": {
      "image/png": "[encoded data removed]",
      "text/plain": [
       "<Figure size 1080x504 with 1 Axes>"
      ]
     },
     "metadata": {
      "needs_background": "light"
     },
     "output_type": "display_data"
    }
   ],
   "source": [
    "date_data = twitter_all_add_date.groupby('朝昼夜').size()\n",
    "plt.bar(np.arange(len(date_data)), date_data.values)"
   ]
  },
  {
   "cell_type": "code",
   "execution_count": 12,
   "metadata": {},
   "outputs": [
    {
     "name": "stdout",
     "output_type": "stream",
     "text": [
      "朝平均： 462.8780487804878\n",
      "昼平均： 808.8\n",
      "夜平均： 846.3669724770642\n",
      "朝と昼のウェルチのt検定: Ttest_indResult(statistic=-0.7154192032200898, pvalue=0.4806635237757064)\n",
      "朝と夜のウェルチのt検定: Ttest_indResult(statistic=-1.0055021932704624, pvalue=0.31629927090203513)\n",
      "昼と夜のウェルチのt検定: Ttest_indResult(statistic=-0.0678885662340645, pvalue=0.9461858137828276)\n",
      "朝と昼のウィルコクソンの順位和検定: MannwhitneyuResult(statistic=381.0, pvalue=0.6614560677439112)\n",
      "朝と夜のウィルコクソンの順位和検定: MannwhitneyuResult(statistic=2482.5, pvalue=0.29658731725750187)\n",
      "昼と夜のウィルコクソンの順位和検定: MannwhitneyuResult(statistic=1343.5, pvalue=0.0996727984464099)\n"
     ]
    }
   ],
   "source": [
    "from scipy import stats\n",
    "\n",
    "# いいね数\n",
    "# morning = twitter_all_add_date.query(\"朝昼夜 == '朝'\")['いいね']\n",
    "# noon = twitter_all_add_date.query(\"朝昼夜 == '昼'\")['いいね']\n",
    "# evening = twitter_all_add_date.query(\"朝昼夜 == '夜'\")['いいね']\n",
    "# インプレッション\n",
    "morning = twitter_all_add_date.query(\"朝昼夜 == '朝'\")['インプレッション']\n",
    "noon = twitter_all_add_date.query(\"朝昼夜 == '昼'\")['インプレッション']\n",
    "evening = twitter_all_add_date.query(\"朝昼夜 == '夜'\")['インプレッション']\n",
    "\n",
    "print('朝平均：', np.mean(morning))\n",
    "print('昼平均：', np.mean(noon))\n",
    "print('夜平均：', np.mean(evening))\n",
    "\n",
    "# 朝昼夜で有意差があるものを判定\n",
    "print('朝と昼のウェルチのt検定:', stats.ttest_ind(morning, noon, equal_var=False))\n",
    "print('朝と夜のウェルチのt検定:', stats.ttest_ind(morning, evening, equal_var=False))\n",
    "print('昼と夜のウェルチのt検定:', stats.ttest_ind(noon, evening, equal_var=False))\n",
    "\n",
    "print('朝と昼のウィルコクソンの順位和検定:', stats.mannwhitneyu(morning, noon, alternative='two-sided'))\n",
    "print('朝と夜のウィルコクソンの順位和検定:', stats.mannwhitneyu(morning, evening, alternative='two-sided'))\n",
    "print('昼と夜のウィルコクソンの順位和検定:', stats.mannwhitneyu(noon, evening, alternative='two-sided'))"
   ]
  },
  {
   "cell_type": "code",
   "execution_count": 506,
   "metadata": {},
   "outputs": [],
   "source": [
    "# 有意差がありそうな変数の具体的な値を見てみる\n",
    "# twitter_all_add_date.query(\"朝昼夜 == '朝'\").sort_values('いいね', ascending=False)\n",
    "# twitter_all_add_date.query(\"朝昼夜 == '朝'\").sort_values('インプレッション', ascending=False)\n",
    "# twitter_all_add_date.query(\"朝昼夜 == '夜'\").sort_values('いいね', ascending=False)\n",
    "# twitter_all_add_date.query(\"朝昼夜 == '夜'\").sort_values('インプレッション', ascending=False)"
   ]
  },
  {
   "cell_type": "code",
   "execution_count": 13,
   "metadata": {},
   "outputs": [],
   "source": [
    "# インプレッションといいねの相関\n",
    "\n",
    "# 外れ値削除\n",
    "twitter_all_simple_shaping = twitter_all_simple[twitter_all_simple['ツイートID'] != 1238040860505202689]\n",
    "\n",
    "impression = twitter_all_simple_shaping[['インプレッション']]\n",
    "good = twitter_all_simple_shaping[['いいね']]\n",
    "# impression.sort_values('インプレッション', ascending=False)\n",
    "\n",
    "# twitter_all_simple_shaping.sort_values('インプレッション', ascending=False)"
   ]
  },
  {
   "cell_type": "code",
   "execution_count": 14,
   "metadata": {},
   "outputs": [
    {
     "data": {
      "text/plain": [
       "<matplotlib.collections.PathCollection at 0x7f2c987f0350>"
      ]
     },
     "execution_count": 14,
     "metadata": {},
     "output_type": "execute_result"
    },
    {
     "data": {
      "image/png": "[encoded data removed]",
      "text/plain": [
       "<Figure size 1080x504 with 1 Axes>"
      ]
     },
     "metadata": {
      "needs_background": "light"
     },
     "output_type": "display_data"
    }
   ],
   "source": [
    "import matplotlib.pyplot as plt\n",
    "\n",
    "plt.rcParams[\"figure.figsize\"] = [15,7] # 図の縦横のサイズ([横(inch),縦(inch)])\n",
    "plt.rcParams[\"font.size\"] = 15 # フォントサイズ デフォルト12\n",
    "plt.title(\"scatter\")\n",
    "plt.xlabel(\"impression\")\n",
    "plt.ylabel(\"good\")\n",
    "plt.scatter(impression, good, s=20, alpha=0.5)"
   ]
  },
  {
   "cell_type": "code",
   "execution_count": 15,
   "metadata": {},
   "outputs": [
    {
     "name": "stdout",
     "output_type": "stream",
     "text": [
      "                            OLS Regression Results                            \n",
      "==============================================================================\n",
      "Dep. Variable:                    いいね   R-squared:                       0.609\n",
      "Model:                            OLS   Adj. R-squared:                  0.607\n",
      "Method:                 Least Squares   F-statistic:                     260.2\n",
      "Date:                Fri, 10 Apr 2020   Prob (F-statistic):           6.78e-36\n",
      "Time:                        23:26:47   Log-Likelihood:                -336.36\n",
      "No. Observations:                 169   AIC:                             676.7\n",
      "Df Residuals:                     167   BIC:                             683.0\n",
      "Df Model:                           1                                         \n",
      "Covariance Type:            nonrobust                                         \n",
      "==============================================================================\n",
      "                 coef    std err          t      P>|t|      [0.025      0.975]\n",
      "------------------------------------------------------------------------------\n",
      "const          0.5972      0.145      4.113      0.000       0.311       0.884\n",
      "インプレッション       0.0014   8.52e-05     16.132      0.000       0.001       0.002\n",
      "==============================================================================\n",
      "Omnibus:                      119.656   Durbin-Watson:                   1.931\n",
      "Prob(Omnibus):                  0.000   Jarque-Bera (JB):             1951.798\n",
      "Skew:                           2.281   Prob(JB):                         0.00\n",
      "Kurtosis:                      19.011   Cond. No.                     1.81e+03\n",
      "==============================================================================\n",
      "\n",
      "Warnings:\n",
      "[1] Standard Errors assume that the covariance matrix of the errors is correctly specified.\n",
      "[2] The condition number is large, 1.81e+03. This might indicate that there are\n",
      "strong multicollinearity or other numerical problems.\n"
     ]
    },
    {
     "name": "stderr",
     "output_type": "stream",
     "text": [
      "/opt/conda/lib/python3.7/site-packages/numpy/core/fromnumeric.py:2495: FutureWarning: Method .ptp is deprecated and will be removed in a future version. Use numpy.ptp instead.\n",
      "  return ptp(axis=axis, out=out, **kwargs)\n"
     ]
    }
   ],
   "source": [
    "# statsmodelsを使った回帰分析\n",
    "import statsmodels.api as sm\n",
    "from sklearn import linear_model\n",
    "\n",
    "model = linear_model.LinearRegression()\n",
    "model.fit(impression.values, good.values)\n",
    "\n",
    "sm_model = sm.OLS(good, sm.add_constant(impression))\n",
    "result = sm_model.fit(disp=0)\n",
    "print(result.summary())"
   ]
  },
  {
   "cell_type": "code",
   "execution_count": 16,
   "metadata": {},
   "outputs": [
    {
     "data": {
      "text/plain": [
       "[<matplotlib.lines.Line2D at 0x7f2c96dcb310>]"
      ]
     },
     "execution_count": 16,
     "metadata": {},
     "output_type": "execute_result"
    },
    {
     "data": {
      "image/png": "[encoded data removed]",
      "text/plain": [
       "<Figure size 1080x504 with 1 Axes>"
      ]
     },
     "metadata": {
      "needs_background": "light"
     },
     "output_type": "display_data"
    }
   ],
   "source": [
    "# 回帰直線\n",
    "plt.rcParams[\"figure.figsize\"] = [15,7] # 図の縦横のサイズ([横(inch),縦(inch)])\n",
    "plt.rcParams[\"font.size\"] = 15 # フォントサイズ デフォルト12\n",
    "plt.title(\"scatter\")\n",
    "plt.xlabel(\"impression\")\n",
    "plt.ylabel(\"good\")\n",
    "plt.scatter(impression, good, s=20, alpha=0.5)\n",
    "plt.plot(impression.values, model.predict(impression.values), color='black')"
   ]
  },
  {
   "cell_type": "code",
   "execution_count": null,
   "metadata": {},
   "outputs": [],
   "source": []
  }
 ],
 "metadata": {
  "kernelspec": {
   "display_name": "Python 3",
   "language": "python",
   "name": "python3"
  },
  "language_info": {
   "codemirror_mode": {
    "name": "ipython",
    "version": 3
   },
   "file_extension": ".py",
   "mimetype": "text/x-python",
   "name": "python",
   "nbconvert_exporter": "python",
   "pygments_lexer": "ipython3",
   "version": "3.7.6"
  }
 },
 "nbformat": 4,
 "nbformat_minor": 4
}
