{
 "cells": [
  {
   "cell_type": "code",
   "execution_count": 13,
   "metadata": {},
   "outputs": [
    {
     "name": "stdout",
     "output_type": "stream",
     "text": [
      "p_hat： 0.2336842105263158\n",
      "A： 0.25\n",
      "B： 0.2057142857142857\n",
      "母比率の差の統計検定量(z検定) =  4.920315222429688\n",
      "母比率の差の統計検定量(p値) =  8.640493920121249e-07\n"
     ]
    }
   ],
   "source": [
    "import math\n",
    "import scipy.stats as st\n",
    "\n",
    "n_east = 6000\n",
    "x_east = 1500\n",
    "n_west = 3500\n",
    "x_west = 720\n",
    "p_east = x_east/n_east\n",
    "p_west = x_west/n_west\n",
    "p_hat = (n_east*p_east + n_west*p_west)/(n_east + n_west) #プールした標本比率\n",
    "print(\"p_hat：\", p_hat)\n",
    "print(\"A：\", p_east)\n",
    "print(\"B：\", p_west)\n",
    "\n",
    "z = (p_east - p_west)/math.sqrt(p_hat*(1 - p_hat)*(1/n_east + 1/n_west))\n",
    "print(\"母比率の差の統計検定量(z検定) = \", z)\n",
    "p = st.norm.sf(abs(z))*2 #twosided\n",
    "print(\"母比率の差の統計検定量(p値) = \", p)"
   ]
  },
  {
   "cell_type": "code",
   "execution_count": 20,
   "metadata": {},
   "outputs": [
    {
     "name": "stdout",
     "output_type": "stream",
     "text": [
      "Aパターン： 2.0\n",
      "Bパターン： 2.12\n",
      "母比率の差の統計検定量(z検定) =  -1.6896532254015406\n",
      "母比率の差の統計検定量(p値) =  0.0910943167797637\n"
     ]
    }
   ],
   "source": [
    "import math\n",
    "import scipy.stats as st\n",
    "\n",
    "a_pattern = 80000\n",
    "a_pattern_size = 1600\n",
    "b_pattern = 80000\n",
    "b_pattern_size = 1696\n",
    "\n",
    "a_proportion = a_pattern_size/a_pattern\n",
    "b_proportion = b_pattern_size/b_pattern\n",
    "print(\"Aパターン：\", a_proportion * 100)\n",
    "print(\"Bパターン：\", b_proportion * 100)\n",
    "\n",
    "p_hat = (a_pattern*a_proportion + b_pattern*b_proportion)/(a_pattern + b_pattern) #プールした標本比率\n",
    "\n",
    "z = (a_proportion - b_proportion)/math.sqrt(p_hat*(1 - p_hat)*(1/a_pattern + 1/b_pattern))\n",
    "print(\"母比率の差の統計検定量(z検定) = \", z)\n",
    "p = st.norm.sf(abs(z))*2 #twosided\n",
    "print(\"母比率の差の統計検定量(p値) = \", p)"
   ]
  },
  {
   "cell_type": "code",
   "execution_count": null,
   "metadata": {},
   "outputs": [],
   "source": []
  }
 ],
 "metadata": {
  "kernelspec": {
   "display_name": "Python 3",
   "language": "python",
   "name": "python3"
  },
  "language_info": {
   "codemirror_mode": {
    "name": "ipython",
    "version": 3
   },
   "file_extension": ".py",
   "mimetype": "text/x-python",
   "name": "python",
   "nbconvert_exporter": "python",
   "pygments_lexer": "ipython3",
   "version": "3.7.6"
  }
 },
 "nbformat": 4,
 "nbformat_minor": 4
}
