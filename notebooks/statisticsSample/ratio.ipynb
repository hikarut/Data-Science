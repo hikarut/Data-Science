{
 "cells": [
  {
   "cell_type": "code",
   "execution_count": 46,
   "metadata": {},
   "outputs": [
    {
     "name": "stdout",
     "output_type": "stream",
     "text": [
      "Aパーン： 2.00%\n",
      "Bパターン： 2.15%\n",
      "母比率の差の統計検定量(z検定) =  -2.1045798795315243\n",
      "母比率の差の統計検定量(p値 片側) =  0.017663947290316492\n",
      "母比率の差の統計検定量(p値 両側) =  0.035327894580632985\n"
     ]
    }
   ],
   "source": [
    "import math\n",
    "import scipy.stats as st\n",
    "\n",
    "a_pattern = 80000\n",
    "a_pattern_size = 1600\n",
    "b_pattern = 80000\n",
    "b_pattern_size = 1720\n",
    "\n",
    "a_proportion = a_pattern_size/a_pattern\n",
    "b_proportion = b_pattern_size/b_pattern\n",
    "print(\"Aパーン：\", '{:.2%}'.format(a_proportion))\n",
    "print(\"Bパターン：\", '{:.2%}'.format(b_proportion))\n",
    "\n",
    "pool = (a_pattern*a_proportion + b_pattern*b_proportion)/(a_pattern + b_pattern)\n",
    "\n",
    "z = (a_proportion - b_proportion)/math.sqrt(pool*(1 - pool)*(1/a_pattern + 1/b_pattern))\n",
    "print(\"母比率の差の統計検定量(z検定) = \", z)\n",
    "p_one_side = st.norm.cdf(z) #片側検定\n",
    "p_both_side = st.norm.cdf(z)*2 #両側検定\n",
    "print(\"母比率の差の統計検定量(p値 片側) = \", p_one_side)\n",
    "print(\"母比率の差の統計検定量(p値 両側) = \", p_both_side)"
   ]
  },
  {
   "cell_type": "code",
   "execution_count": null,
   "metadata": {},
   "outputs": [],
   "source": []
  }
 ],
 "metadata": {
  "kernelspec": {
   "display_name": "Python 3",
   "language": "python",
   "name": "python3"
  },
  "language_info": {
   "codemirror_mode": {
    "name": "ipython",
    "version": 3
   },
   "file_extension": ".py",
   "mimetype": "text/x-python",
   "name": "python",
   "nbconvert_exporter": "python",
   "pygments_lexer": "ipython3",
   "version": "3.7.6"
  }
 },
 "nbformat": 4,
 "nbformat_minor": 4
}
